{
 "cells": [
  {
   "cell_type": "markdown",
   "source": [
    "# **Welcome to Jupyter!**\r\n",
    "## To load the pandas package and start working with it, import the package. The community agreed alias for pandas is pd, so loading pandas as pd is assumed standard practice for all of the pandas documentation."
   ],
   "metadata": {}
  },
  {
   "cell_type": "code",
   "execution_count": 2,
   "source": [
    "import pandas as pd\r\n",
    "import matplotlib.pyplot as plt"
   ],
   "outputs": [],
   "metadata": {}
  },
  {
   "cell_type": "markdown",
   "source": [
    "## I imported matplotlib.pyplot as plt for another reason that I will explain later"
   ],
   "metadata": {}
  },
  {
   "cell_type": "markdown",
   "source": [
    "## pandas supports the integration with many file formats or data sources out of the box (csv, excel, sql, json, parquet,…).\r\n",
    " ## Importing data from each of these data sources is provided by function with the prefix *read_* Similarly, the *to_* methods are used to store data. \r\n",
    "\r\n",
    "## We will practice by loading a GFF file. We provide the argument comment=\"#\" below so it will skip the first few lines of the file that are not data but just comments, and we will enter in the column names by hand because it is easier than trying to parse them from the file in this case."
   ],
   "metadata": {}
  },
  {
   "cell_type": "code",
   "execution_count": 3,
   "source": [
    "# read csv function with arguments to parse the file\r\n",
    "gff = pd.read_csv(\r\n",
    "    \"./NZ_GG770409.gff\", \r\n",
    "    sep=\"\\t\", \r\n",
    "    header=None,\r\n",
    "    comment=\"#\", \r\n",
    "    names=(\"seqname\", \"source\", \"feature\", \"start\",\r\n",
    "           \"end\", \"score\", \"strand\", \"frame\", \"attribute\"),\r\n",
    ")"
   ],
   "outputs": [],
   "metadata": {}
  },
  {
   "cell_type": "markdown",
   "source": [
    "## Make sure to always have a check on the data after reading it.\r\n",
    "## When displaying a DataFrame, the first 5 rows will be shown by default:\r\n"
   ],
   "metadata": {}
  },
  {
   "cell_type": "code",
   "execution_count": 4,
   "source": [
    "gff.head(8)"
   ],
   "outputs": [
    {
     "output_type": "execute_result",
     "data": {
      "text/html": [
       "<div>\n",
       "<style scoped>\n",
       "    .dataframe tbody tr th:only-of-type {\n",
       "        vertical-align: middle;\n",
       "    }\n",
       "\n",
       "    .dataframe tbody tr th {\n",
       "        vertical-align: top;\n",
       "    }\n",
       "\n",
       "    .dataframe thead th {\n",
       "        text-align: right;\n",
       "    }\n",
       "</style>\n",
       "<table border=\"1\" class=\"dataframe\">\n",
       "  <thead>\n",
       "    <tr style=\"text-align: right;\">\n",
       "      <th></th>\n",
       "      <th>seqname</th>\n",
       "      <th>source</th>\n",
       "      <th>feature</th>\n",
       "      <th>start</th>\n",
       "      <th>end</th>\n",
       "      <th>score</th>\n",
       "      <th>strand</th>\n",
       "      <th>frame</th>\n",
       "      <th>attribute</th>\n",
       "    </tr>\n",
       "  </thead>\n",
       "  <tbody>\n",
       "    <tr>\n",
       "      <th>0</th>\n",
       "      <td>NZ_GG770409.1</td>\n",
       "      <td>RefSeq</td>\n",
       "      <td>region</td>\n",
       "      <td>1</td>\n",
       "      <td>6115515</td>\n",
       "      <td>.</td>\n",
       "      <td>+</td>\n",
       "      <td>.</td>\n",
       "      <td>ID=id0;Dbxref=Greengenes:253191,HMP:0004,taxon...</td>\n",
       "    </tr>\n",
       "    <tr>\n",
       "      <th>1</th>\n",
       "      <td>NZ_GG770409.1</td>\n",
       "      <td>RefSeq</td>\n",
       "      <td>gene</td>\n",
       "      <td>1</td>\n",
       "      <td>288</td>\n",
       "      <td>.</td>\n",
       "      <td>-</td>\n",
       "      <td>.</td>\n",
       "      <td>ID=gene0;Name=HMPREF0004_0003;gbkey=Gene;locus...</td>\n",
       "    </tr>\n",
       "    <tr>\n",
       "      <th>2</th>\n",
       "      <td>NZ_GG770409.1</td>\n",
       "      <td>RefSeq</td>\n",
       "      <td>CDS</td>\n",
       "      <td>1</td>\n",
       "      <td>288</td>\n",
       "      <td>.</td>\n",
       "      <td>-</td>\n",
       "      <td>0</td>\n",
       "      <td>ID=cds0;Name=ZP_06684427.1;Parent=gene0;Dbxref...</td>\n",
       "    </tr>\n",
       "    <tr>\n",
       "      <th>3</th>\n",
       "      <td>NZ_GG770409.1</td>\n",
       "      <td>RefSeq</td>\n",
       "      <td>gene</td>\n",
       "      <td>316</td>\n",
       "      <td>1767</td>\n",
       "      <td>.</td>\n",
       "      <td>-</td>\n",
       "      <td>.</td>\n",
       "      <td>ID=gene1;Name=HMPREF0004_0004;gbkey=Gene;locus...</td>\n",
       "    </tr>\n",
       "    <tr>\n",
       "      <th>4</th>\n",
       "      <td>NZ_GG770409.1</td>\n",
       "      <td>RefSeq</td>\n",
       "      <td>CDS</td>\n",
       "      <td>316</td>\n",
       "      <td>1767</td>\n",
       "      <td>.</td>\n",
       "      <td>-</td>\n",
       "      <td>0</td>\n",
       "      <td>ID=cds1;Name=ZP_06684428.1;Parent=gene1;Note=C...</td>\n",
       "    </tr>\n",
       "    <tr>\n",
       "      <th>5</th>\n",
       "      <td>NZ_GG770409.1</td>\n",
       "      <td>RefSeq</td>\n",
       "      <td>gene</td>\n",
       "      <td>1885</td>\n",
       "      <td>4315</td>\n",
       "      <td>.</td>\n",
       "      <td>-</td>\n",
       "      <td>.</td>\n",
       "      <td>ID=gene2;Name=HMPREF0004_0005;gbkey=Gene;locus...</td>\n",
       "    </tr>\n",
       "    <tr>\n",
       "      <th>6</th>\n",
       "      <td>NZ_GG770409.1</td>\n",
       "      <td>RefSeq</td>\n",
       "      <td>CDS</td>\n",
       "      <td>1885</td>\n",
       "      <td>4315</td>\n",
       "      <td>.</td>\n",
       "      <td>-</td>\n",
       "      <td>0</td>\n",
       "      <td>ID=cds2;Name=ZP_06684429.1;Parent=gene2;Note=C...</td>\n",
       "    </tr>\n",
       "    <tr>\n",
       "      <th>7</th>\n",
       "      <td>NZ_GG770409.1</td>\n",
       "      <td>RefSeq</td>\n",
       "      <td>gene</td>\n",
       "      <td>4408</td>\n",
       "      <td>5016</td>\n",
       "      <td>.</td>\n",
       "      <td>-</td>\n",
       "      <td>.</td>\n",
       "      <td>ID=gene3;Name=HMPREF0004_0006;gbkey=Gene;locus...</td>\n",
       "    </tr>\n",
       "  </tbody>\n",
       "</table>\n",
       "</div>"
      ],
      "text/plain": [
       "         seqname  source feature  start      end score strand frame  \\\n",
       "0  NZ_GG770409.1  RefSeq  region      1  6115515     .      +     .   \n",
       "1  NZ_GG770409.1  RefSeq    gene      1      288     .      -     .   \n",
       "2  NZ_GG770409.1  RefSeq     CDS      1      288     .      -     0   \n",
       "3  NZ_GG770409.1  RefSeq    gene    316     1767     .      -     .   \n",
       "4  NZ_GG770409.1  RefSeq     CDS    316     1767     .      -     0   \n",
       "5  NZ_GG770409.1  RefSeq    gene   1885     4315     .      -     .   \n",
       "6  NZ_GG770409.1  RefSeq     CDS   1885     4315     .      -     0   \n",
       "7  NZ_GG770409.1  RefSeq    gene   4408     5016     .      -     .   \n",
       "\n",
       "                                           attribute  \n",
       "0  ID=id0;Dbxref=Greengenes:253191,HMP:0004,taxon...  \n",
       "1  ID=gene0;Name=HMPREF0004_0003;gbkey=Gene;locus...  \n",
       "2  ID=cds0;Name=ZP_06684427.1;Parent=gene0;Dbxref...  \n",
       "3  ID=gene1;Name=HMPREF0004_0004;gbkey=Gene;locus...  \n",
       "4  ID=cds1;Name=ZP_06684428.1;Parent=gene1;Note=C...  \n",
       "5  ID=gene2;Name=HMPREF0004_0005;gbkey=Gene;locus...  \n",
       "6  ID=cds2;Name=ZP_06684429.1;Parent=gene2;Note=C...  \n",
       "7  ID=gene3;Name=HMPREF0004_0006;gbkey=Gene;locus...  "
      ]
     },
     "metadata": {},
     "execution_count": 4
    }
   ],
   "metadata": {}
  },
  {
   "cell_type": "markdown",
   "source": [
    "## Use the head() method with the required number of rows (in this case 8) as an argument to see the first N rows of a DataFrame (the default is 5).\r\n",
    "## If you want to see the last N rows, use the tail() method.\r\n",
    "## To see the last two rows, what should we type in the next cell?"
   ],
   "metadata": {}
  },
  {
   "cell_type": "code",
   "execution_count": null,
   "source": [],
   "outputs": [],
   "metadata": {}
  },
  {
   "cell_type": "markdown",
   "source": [
    "## You can check how pandas interpreted each of the column data types  by dtypes attribute."
   ],
   "metadata": {}
  },
  {
   "cell_type": "code",
   "execution_count": 5,
   "source": [
    "gff.dtypes"
   ],
   "outputs": [
    {
     "output_type": "execute_result",
     "data": {
      "text/plain": [
       "seqname      object\n",
       "source       object\n",
       "feature      object\n",
       "start         int64\n",
       "end           int64\n",
       "score        object\n",
       "strand       object\n",
       "frame        object\n",
       "attribute    object\n",
       "dtype: object"
      ]
     },
     "metadata": {},
     "execution_count": 5
    }
   ],
   "metadata": {}
  },
  {
   "cell_type": "markdown",
   "source": [
    "## If you are Interested in a technical summary of the DataFrame, use info()."
   ],
   "metadata": {}
  },
  {
   "cell_type": "code",
   "execution_count": 6,
   "source": [
    "gff.info()"
   ],
   "outputs": [
    {
     "output_type": "stream",
     "name": "stdout",
     "text": [
      "<class 'pandas.core.frame.DataFrame'>\n",
      "RangeIndex: 11591 entries, 0 to 11590\n",
      "Data columns (total 9 columns):\n",
      " #   Column     Non-Null Count  Dtype \n",
      "---  ------     --------------  ----- \n",
      " 0   seqname    11591 non-null  object\n",
      " 1   source     11591 non-null  object\n",
      " 2   feature    11591 non-null  object\n",
      " 3   start      11591 non-null  int64 \n",
      " 4   end        11591 non-null  int64 \n",
      " 5   score      11591 non-null  object\n",
      " 6   strand     11591 non-null  object\n",
      " 7   frame      11591 non-null  object\n",
      " 8   attribute  11591 non-null  object\n",
      "dtypes: int64(2), object(7)\n",
      "memory usage: 815.1+ KB\n"
     ]
    }
   ],
   "metadata": {}
  },
  {
   "cell_type": "markdown",
   "source": [
    "\r\n",
    "## Some of the columns may pique your interest at times. You can select a (some) specific column (s); for example, if you want to see the 'feature' column, you can do so as follows:"
   ],
   "metadata": {}
  },
  {
   "cell_type": "code",
   "execution_count": 7,
   "source": [
    "features = gff['feature']\r\n",
    "features.head()"
   ],
   "outputs": [
    {
     "output_type": "execute_result",
     "data": {
      "text/plain": [
       "0    region\n",
       "1      gene\n",
       "2       CDS\n",
       "3      gene\n",
       "4       CDS\n",
       "Name: feature, dtype: object"
      ]
     },
     "metadata": {},
     "execution_count": 7
    }
   ],
   "metadata": {}
  },
  {
   "cell_type": "markdown",
   "source": [
    "##  A convenient way to filter or subselect part of a data set is to use a mask. You can create a boolean array to act as a mask for an entire column or row by asking a question with a True or False answer and broadcasting it across the row or column. For example, below we ask whether the feature is a CDS, which returns a True or False for every element in the 'feature' column."
   ],
   "metadata": {}
  },
  {
   "cell_type": "code",
   "execution_count": 8,
   "source": [
    "# create a boolean mask of the feature column asking 'is it a CDS?'\r\n",
    "mask = gff.feature == \"CDS\"\r\n",
    "\r\n",
    "# show the first 10 values\r\n",
    "mask.head(10)"
   ],
   "outputs": [
    {
     "output_type": "execute_result",
     "data": {
      "text/plain": [
       "0    False\n",
       "1    False\n",
       "2     True\n",
       "3    False\n",
       "4     True\n",
       "5    False\n",
       "6     True\n",
       "7    False\n",
       "8     True\n",
       "9    False\n",
       "Name: feature, dtype: bool"
      ]
     },
     "metadata": {},
     "execution_count": 8
    }
   ],
   "metadata": {}
  },
  {
   "cell_type": "markdown",
   "source": [
    "## We can now apply the mask to the DataFrame as an index, or with.loc or.iloc, and it will select all rows with True, but not those with False. The index (row name) on the right is kept across the entire dataframe, so if you select only CDS, you'll get element 2, 4, 6, 8, and so on."
   ],
   "metadata": {}
  },
  {
   "cell_type": "code",
   "execution_count": 9,
   "source": [
    "# use this mask to select only rows that are CDS\r\n",
    "CDSs = gff[mask]\r\n",
    "\r\n",
    "# return the first 10 value\r\n",
    "CDSs.head()"
   ],
   "outputs": [
    {
     "output_type": "execute_result",
     "data": {
      "text/html": [
       "<div>\n",
       "<style scoped>\n",
       "    .dataframe tbody tr th:only-of-type {\n",
       "        vertical-align: middle;\n",
       "    }\n",
       "\n",
       "    .dataframe tbody tr th {\n",
       "        vertical-align: top;\n",
       "    }\n",
       "\n",
       "    .dataframe thead th {\n",
       "        text-align: right;\n",
       "    }\n",
       "</style>\n",
       "<table border=\"1\" class=\"dataframe\">\n",
       "  <thead>\n",
       "    <tr style=\"text-align: right;\">\n",
       "      <th></th>\n",
       "      <th>seqname</th>\n",
       "      <th>source</th>\n",
       "      <th>feature</th>\n",
       "      <th>start</th>\n",
       "      <th>end</th>\n",
       "      <th>score</th>\n",
       "      <th>strand</th>\n",
       "      <th>frame</th>\n",
       "      <th>attribute</th>\n",
       "    </tr>\n",
       "  </thead>\n",
       "  <tbody>\n",
       "    <tr>\n",
       "      <th>2</th>\n",
       "      <td>NZ_GG770409.1</td>\n",
       "      <td>RefSeq</td>\n",
       "      <td>CDS</td>\n",
       "      <td>1</td>\n",
       "      <td>288</td>\n",
       "      <td>.</td>\n",
       "      <td>-</td>\n",
       "      <td>0</td>\n",
       "      <td>ID=cds0;Name=ZP_06684427.1;Parent=gene0;Dbxref...</td>\n",
       "    </tr>\n",
       "    <tr>\n",
       "      <th>4</th>\n",
       "      <td>NZ_GG770409.1</td>\n",
       "      <td>RefSeq</td>\n",
       "      <td>CDS</td>\n",
       "      <td>316</td>\n",
       "      <td>1767</td>\n",
       "      <td>.</td>\n",
       "      <td>-</td>\n",
       "      <td>0</td>\n",
       "      <td>ID=cds1;Name=ZP_06684428.1;Parent=gene1;Note=C...</td>\n",
       "    </tr>\n",
       "    <tr>\n",
       "      <th>6</th>\n",
       "      <td>NZ_GG770409.1</td>\n",
       "      <td>RefSeq</td>\n",
       "      <td>CDS</td>\n",
       "      <td>1885</td>\n",
       "      <td>4315</td>\n",
       "      <td>.</td>\n",
       "      <td>-</td>\n",
       "      <td>0</td>\n",
       "      <td>ID=cds2;Name=ZP_06684429.1;Parent=gene2;Note=C...</td>\n",
       "    </tr>\n",
       "    <tr>\n",
       "      <th>8</th>\n",
       "      <td>NZ_GG770409.1</td>\n",
       "      <td>RefSeq</td>\n",
       "      <td>CDS</td>\n",
       "      <td>4408</td>\n",
       "      <td>5016</td>\n",
       "      <td>.</td>\n",
       "      <td>-</td>\n",
       "      <td>0</td>\n",
       "      <td>ID=cds3;Name=ZP_06684430.1;Parent=gene3;Note=C...</td>\n",
       "    </tr>\n",
       "    <tr>\n",
       "      <th>10</th>\n",
       "      <td>NZ_GG770409.1</td>\n",
       "      <td>RefSeq</td>\n",
       "      <td>CDS</td>\n",
       "      <td>5013</td>\n",
       "      <td>5294</td>\n",
       "      <td>.</td>\n",
       "      <td>-</td>\n",
       "      <td>0</td>\n",
       "      <td>ID=cds4;Name=ZP_06684431.1;Parent=gene4;Note=I...</td>\n",
       "    </tr>\n",
       "  </tbody>\n",
       "</table>\n",
       "</div>"
      ],
      "text/plain": [
       "          seqname  source feature  start   end score strand frame  \\\n",
       "2   NZ_GG770409.1  RefSeq     CDS      1   288     .      -     0   \n",
       "4   NZ_GG770409.1  RefSeq     CDS    316  1767     .      -     0   \n",
       "6   NZ_GG770409.1  RefSeq     CDS   1885  4315     .      -     0   \n",
       "8   NZ_GG770409.1  RefSeq     CDS   4408  5016     .      -     0   \n",
       "10  NZ_GG770409.1  RefSeq     CDS   5013  5294     .      -     0   \n",
       "\n",
       "                                            attribute  \n",
       "2   ID=cds0;Name=ZP_06684427.1;Parent=gene0;Dbxref...  \n",
       "4   ID=cds1;Name=ZP_06684428.1;Parent=gene1;Note=C...  \n",
       "6   ID=cds2;Name=ZP_06684429.1;Parent=gene2;Note=C...  \n",
       "8   ID=cds3;Name=ZP_06684430.1;Parent=gene3;Note=C...  \n",
       "10  ID=cds4;Name=ZP_06684431.1;Parent=gene4;Note=I...  "
      ]
     },
     "metadata": {},
     "execution_count": 9
    }
   ],
   "metadata": {}
  },
  {
   "cell_type": "code",
   "execution_count": 11,
   "source": [
    " # or, we could have written the above code more concisely as a single line:\r\n",
    "gff.loc[gff.feature == \"CDS\"].head()"
   ],
   "outputs": [
    {
     "output_type": "execute_result",
     "data": {
      "text/html": [
       "<div>\n",
       "<style scoped>\n",
       "    .dataframe tbody tr th:only-of-type {\n",
       "        vertical-align: middle;\n",
       "    }\n",
       "\n",
       "    .dataframe tbody tr th {\n",
       "        vertical-align: top;\n",
       "    }\n",
       "\n",
       "    .dataframe thead th {\n",
       "        text-align: right;\n",
       "    }\n",
       "</style>\n",
       "<table border=\"1\" class=\"dataframe\">\n",
       "  <thead>\n",
       "    <tr style=\"text-align: right;\">\n",
       "      <th></th>\n",
       "      <th>seqname</th>\n",
       "      <th>source</th>\n",
       "      <th>feature</th>\n",
       "      <th>start</th>\n",
       "      <th>end</th>\n",
       "      <th>score</th>\n",
       "      <th>strand</th>\n",
       "      <th>frame</th>\n",
       "      <th>attribute</th>\n",
       "    </tr>\n",
       "  </thead>\n",
       "  <tbody>\n",
       "    <tr>\n",
       "      <th>2</th>\n",
       "      <td>NZ_GG770409.1</td>\n",
       "      <td>RefSeq</td>\n",
       "      <td>CDS</td>\n",
       "      <td>1</td>\n",
       "      <td>288</td>\n",
       "      <td>.</td>\n",
       "      <td>-</td>\n",
       "      <td>0</td>\n",
       "      <td>ID=cds0;Name=ZP_06684427.1;Parent=gene0;Dbxref...</td>\n",
       "    </tr>\n",
       "    <tr>\n",
       "      <th>4</th>\n",
       "      <td>NZ_GG770409.1</td>\n",
       "      <td>RefSeq</td>\n",
       "      <td>CDS</td>\n",
       "      <td>316</td>\n",
       "      <td>1767</td>\n",
       "      <td>.</td>\n",
       "      <td>-</td>\n",
       "      <td>0</td>\n",
       "      <td>ID=cds1;Name=ZP_06684428.1;Parent=gene1;Note=C...</td>\n",
       "    </tr>\n",
       "    <tr>\n",
       "      <th>6</th>\n",
       "      <td>NZ_GG770409.1</td>\n",
       "      <td>RefSeq</td>\n",
       "      <td>CDS</td>\n",
       "      <td>1885</td>\n",
       "      <td>4315</td>\n",
       "      <td>.</td>\n",
       "      <td>-</td>\n",
       "      <td>0</td>\n",
       "      <td>ID=cds2;Name=ZP_06684429.1;Parent=gene2;Note=C...</td>\n",
       "    </tr>\n",
       "    <tr>\n",
       "      <th>8</th>\n",
       "      <td>NZ_GG770409.1</td>\n",
       "      <td>RefSeq</td>\n",
       "      <td>CDS</td>\n",
       "      <td>4408</td>\n",
       "      <td>5016</td>\n",
       "      <td>.</td>\n",
       "      <td>-</td>\n",
       "      <td>0</td>\n",
       "      <td>ID=cds3;Name=ZP_06684430.1;Parent=gene3;Note=C...</td>\n",
       "    </tr>\n",
       "    <tr>\n",
       "      <th>10</th>\n",
       "      <td>NZ_GG770409.1</td>\n",
       "      <td>RefSeq</td>\n",
       "      <td>CDS</td>\n",
       "      <td>5013</td>\n",
       "      <td>5294</td>\n",
       "      <td>.</td>\n",
       "      <td>-</td>\n",
       "      <td>0</td>\n",
       "      <td>ID=cds4;Name=ZP_06684431.1;Parent=gene4;Note=I...</td>\n",
       "    </tr>\n",
       "  </tbody>\n",
       "</table>\n",
       "</div>"
      ],
      "text/plain": [
       "          seqname  source feature  start   end score strand frame  \\\n",
       "2   NZ_GG770409.1  RefSeq     CDS      1   288     .      -     0   \n",
       "4   NZ_GG770409.1  RefSeq     CDS    316  1767     .      -     0   \n",
       "6   NZ_GG770409.1  RefSeq     CDS   1885  4315     .      -     0   \n",
       "8   NZ_GG770409.1  RefSeq     CDS   4408  5016     .      -     0   \n",
       "10  NZ_GG770409.1  RefSeq     CDS   5013  5294     .      -     0   \n",
       "\n",
       "                                            attribute  \n",
       "2   ID=cds0;Name=ZP_06684427.1;Parent=gene0;Dbxref...  \n",
       "4   ID=cds1;Name=ZP_06684428.1;Parent=gene1;Note=C...  \n",
       "6   ID=cds2;Name=ZP_06684429.1;Parent=gene2;Note=C...  \n",
       "8   ID=cds3;Name=ZP_06684430.1;Parent=gene3;Note=C...  \n",
       "10  ID=cds4;Name=ZP_06684431.1;Parent=gene4;Note=I...  "
      ]
     },
     "metadata": {},
     "execution_count": 11
    }
   ],
   "metadata": {}
  },
  {
   "cell_type": "markdown",
   "source": [
    "## In the code cells below we are just returning the filtered DataDrame rather than saving it to a variable so you can easily see the result of the operation. As you can see it is easy to explore the effect of our operations by filtering in various ways and calling the .head() function to show a small part of the result."
   ],
   "metadata": {}
  },
  {
   "cell_type": "code",
   "execution_count": 12,
   "source": [
    "gff[gff.feature == \"CDS\"].head()"
   ],
   "outputs": [
    {
     "output_type": "execute_result",
     "data": {
      "text/html": [
       "<div>\n",
       "<style scoped>\n",
       "    .dataframe tbody tr th:only-of-type {\n",
       "        vertical-align: middle;\n",
       "    }\n",
       "\n",
       "    .dataframe tbody tr th {\n",
       "        vertical-align: top;\n",
       "    }\n",
       "\n",
       "    .dataframe thead th {\n",
       "        text-align: right;\n",
       "    }\n",
       "</style>\n",
       "<table border=\"1\" class=\"dataframe\">\n",
       "  <thead>\n",
       "    <tr style=\"text-align: right;\">\n",
       "      <th></th>\n",
       "      <th>seqname</th>\n",
       "      <th>source</th>\n",
       "      <th>feature</th>\n",
       "      <th>start</th>\n",
       "      <th>end</th>\n",
       "      <th>score</th>\n",
       "      <th>strand</th>\n",
       "      <th>frame</th>\n",
       "      <th>attribute</th>\n",
       "    </tr>\n",
       "  </thead>\n",
       "  <tbody>\n",
       "    <tr>\n",
       "      <th>2</th>\n",
       "      <td>NZ_GG770409.1</td>\n",
       "      <td>RefSeq</td>\n",
       "      <td>CDS</td>\n",
       "      <td>1</td>\n",
       "      <td>288</td>\n",
       "      <td>.</td>\n",
       "      <td>-</td>\n",
       "      <td>0</td>\n",
       "      <td>ID=cds0;Name=ZP_06684427.1;Parent=gene0;Dbxref...</td>\n",
       "    </tr>\n",
       "    <tr>\n",
       "      <th>4</th>\n",
       "      <td>NZ_GG770409.1</td>\n",
       "      <td>RefSeq</td>\n",
       "      <td>CDS</td>\n",
       "      <td>316</td>\n",
       "      <td>1767</td>\n",
       "      <td>.</td>\n",
       "      <td>-</td>\n",
       "      <td>0</td>\n",
       "      <td>ID=cds1;Name=ZP_06684428.1;Parent=gene1;Note=C...</td>\n",
       "    </tr>\n",
       "    <tr>\n",
       "      <th>6</th>\n",
       "      <td>NZ_GG770409.1</td>\n",
       "      <td>RefSeq</td>\n",
       "      <td>CDS</td>\n",
       "      <td>1885</td>\n",
       "      <td>4315</td>\n",
       "      <td>.</td>\n",
       "      <td>-</td>\n",
       "      <td>0</td>\n",
       "      <td>ID=cds2;Name=ZP_06684429.1;Parent=gene2;Note=C...</td>\n",
       "    </tr>\n",
       "    <tr>\n",
       "      <th>8</th>\n",
       "      <td>NZ_GG770409.1</td>\n",
       "      <td>RefSeq</td>\n",
       "      <td>CDS</td>\n",
       "      <td>4408</td>\n",
       "      <td>5016</td>\n",
       "      <td>.</td>\n",
       "      <td>-</td>\n",
       "      <td>0</td>\n",
       "      <td>ID=cds3;Name=ZP_06684430.1;Parent=gene3;Note=C...</td>\n",
       "    </tr>\n",
       "    <tr>\n",
       "      <th>10</th>\n",
       "      <td>NZ_GG770409.1</td>\n",
       "      <td>RefSeq</td>\n",
       "      <td>CDS</td>\n",
       "      <td>5013</td>\n",
       "      <td>5294</td>\n",
       "      <td>.</td>\n",
       "      <td>-</td>\n",
       "      <td>0</td>\n",
       "      <td>ID=cds4;Name=ZP_06684431.1;Parent=gene4;Note=I...</td>\n",
       "    </tr>\n",
       "  </tbody>\n",
       "</table>\n",
       "</div>"
      ],
      "text/plain": [
       "          seqname  source feature  start   end score strand frame  \\\n",
       "2   NZ_GG770409.1  RefSeq     CDS      1   288     .      -     0   \n",
       "4   NZ_GG770409.1  RefSeq     CDS    316  1767     .      -     0   \n",
       "6   NZ_GG770409.1  RefSeq     CDS   1885  4315     .      -     0   \n",
       "8   NZ_GG770409.1  RefSeq     CDS   4408  5016     .      -     0   \n",
       "10  NZ_GG770409.1  RefSeq     CDS   5013  5294     .      -     0   \n",
       "\n",
       "                                            attribute  \n",
       "2   ID=cds0;Name=ZP_06684427.1;Parent=gene0;Dbxref...  \n",
       "4   ID=cds1;Name=ZP_06684428.1;Parent=gene1;Note=C...  \n",
       "6   ID=cds2;Name=ZP_06684429.1;Parent=gene2;Note=C...  \n",
       "8   ID=cds3;Name=ZP_06684430.1;Parent=gene3;Note=C...  \n",
       "10  ID=cds4;Name=ZP_06684431.1;Parent=gene4;Note=I...  "
      ]
     },
     "metadata": {},
     "execution_count": 12
    }
   ],
   "metadata": {}
  },
  {
   "cell_type": "code",
   "execution_count": 13,
   "source": [
    "# select attributes of those rows\r\n",
    "gff[gff.feature == \"CDS\"][\"attribute\"].head(5)"
   ],
   "outputs": [
    {
     "output_type": "execute_result",
     "data": {
      "text/plain": [
       "2     ID=cds0;Name=ZP_06684427.1;Parent=gene0;Dbxref...\n",
       "4     ID=cds1;Name=ZP_06684428.1;Parent=gene1;Note=C...\n",
       "6     ID=cds2;Name=ZP_06684429.1;Parent=gene2;Note=C...\n",
       "8     ID=cds3;Name=ZP_06684430.1;Parent=gene3;Note=C...\n",
       "10    ID=cds4;Name=ZP_06684431.1;Parent=gene4;Note=I...\n",
       "Name: attribute, dtype: object"
      ]
     },
     "metadata": {},
     "execution_count": 13
    }
   ],
   "metadata": {}
  },
  {
   "cell_type": "markdown",
   "source": [
    " ##  you can count the number of genes in the DataFrame in the code cell below."
   ],
   "metadata": {}
  },
  {
   "cell_type": "code",
   "execution_count": 15,
   "source": [
    "gff.loc[gff.feature == \"gene\"].shape[0]"
   ],
   "outputs": [
    {
     "output_type": "execute_result",
     "data": {
      "text/plain": [
       "5761"
      ]
     },
     "metadata": {},
     "execution_count": 15
    }
   ],
   "metadata": {}
  },
  {
   "cell_type": "markdown",
   "source": [
    "## We can also use the iloc[] attribute to specify the position of the passed integers. Because iloc is integer position-based, you must specify rows and columns by their integer position values (0-based integer position).\r\n",
    "\r\n",
    "\r\n",
    "## loc is label-based, which means that you have to specify rows and columns based on their row and column labels."
   ],
   "metadata": {}
  },
  {
   "cell_type": "code",
   "execution_count": 23,
   "source": [
    "#gff.iloc[rowindex, column index]\r\n",
    "gff.iloc[2:5, 3:7]"
   ],
   "outputs": [
    {
     "output_type": "execute_result",
     "data": {
      "text/html": [
       "<div>\n",
       "<style scoped>\n",
       "    .dataframe tbody tr th:only-of-type {\n",
       "        vertical-align: middle;\n",
       "    }\n",
       "\n",
       "    .dataframe tbody tr th {\n",
       "        vertical-align: top;\n",
       "    }\n",
       "\n",
       "    .dataframe thead th {\n",
       "        text-align: right;\n",
       "    }\n",
       "</style>\n",
       "<table border=\"1\" class=\"dataframe\">\n",
       "  <thead>\n",
       "    <tr style=\"text-align: right;\">\n",
       "      <th></th>\n",
       "      <th>start</th>\n",
       "      <th>end</th>\n",
       "      <th>score</th>\n",
       "      <th>strand</th>\n",
       "    </tr>\n",
       "  </thead>\n",
       "  <tbody>\n",
       "    <tr>\n",
       "      <th>2</th>\n",
       "      <td>1</td>\n",
       "      <td>288</td>\n",
       "      <td>.</td>\n",
       "      <td>-</td>\n",
       "    </tr>\n",
       "    <tr>\n",
       "      <th>3</th>\n",
       "      <td>316</td>\n",
       "      <td>1767</td>\n",
       "      <td>.</td>\n",
       "      <td>-</td>\n",
       "    </tr>\n",
       "    <tr>\n",
       "      <th>4</th>\n",
       "      <td>316</td>\n",
       "      <td>1767</td>\n",
       "      <td>.</td>\n",
       "      <td>-</td>\n",
       "    </tr>\n",
       "  </tbody>\n",
       "</table>\n",
       "</div>"
      ],
      "text/plain": [
       "   start   end score strand\n",
       "2      1   288     .      -\n",
       "3    316  1767     .      -\n",
       "4    316  1767     .      -"
      ]
     },
     "metadata": {},
     "execution_count": 23
    }
   ],
   "metadata": {}
  },
  {
   "cell_type": "markdown",
   "source": [
    "## What should I write if I want rows 2 to 6 and all the columns?"
   ],
   "metadata": {}
  },
  {
   "cell_type": "code",
   "execution_count": null,
   "source": [],
   "outputs": [],
   "metadata": {}
  },
  {
   "cell_type": "code",
   "execution_count": 16,
   "source": [
    "# 3 is the label of row 4\r\n",
    "gff.loc[3]"
   ],
   "outputs": [
    {
     "output_type": "execute_result",
     "data": {
      "text/plain": [
       "seqname                                          NZ_GG770409.1\n",
       "source                                                  RefSeq\n",
       "feature                                                   gene\n",
       "start                                                      316\n",
       "end                                                       1767\n",
       "score                                                        .\n",
       "strand                                                       -\n",
       "frame                                                        .\n",
       "attribute    ID=gene1;Name=HMPREF0004_0004;gbkey=Gene;locus...\n",
       "Name: 3, dtype: object"
      ]
     },
     "metadata": {},
     "execution_count": 16
    }
   ],
   "metadata": {}
  },
  {
   "cell_type": "markdown",
   "source": [
    "## A DataFrame can be filtered to show only specific rows. For example, if you're looking for samples with a starting position greater than 4408:\r\n"
   ],
   "metadata": {}
  },
  {
   "cell_type": "code",
   "execution_count": 17,
   "source": [
    "above_4408 = gff[gff['start']> 4408]\r\n",
    "above_4408.head(3)"
   ],
   "outputs": [
    {
     "output_type": "execute_result",
     "data": {
      "text/html": [
       "<div>\n",
       "<style scoped>\n",
       "    .dataframe tbody tr th:only-of-type {\n",
       "        vertical-align: middle;\n",
       "    }\n",
       "\n",
       "    .dataframe tbody tr th {\n",
       "        vertical-align: top;\n",
       "    }\n",
       "\n",
       "    .dataframe thead th {\n",
       "        text-align: right;\n",
       "    }\n",
       "</style>\n",
       "<table border=\"1\" class=\"dataframe\">\n",
       "  <thead>\n",
       "    <tr style=\"text-align: right;\">\n",
       "      <th></th>\n",
       "      <th>seqname</th>\n",
       "      <th>source</th>\n",
       "      <th>feature</th>\n",
       "      <th>start</th>\n",
       "      <th>end</th>\n",
       "      <th>score</th>\n",
       "      <th>strand</th>\n",
       "      <th>frame</th>\n",
       "      <th>attribute</th>\n",
       "    </tr>\n",
       "  </thead>\n",
       "  <tbody>\n",
       "    <tr>\n",
       "      <th>9</th>\n",
       "      <td>NZ_GG770409.1</td>\n",
       "      <td>RefSeq</td>\n",
       "      <td>gene</td>\n",
       "      <td>5013</td>\n",
       "      <td>5294</td>\n",
       "      <td>.</td>\n",
       "      <td>-</td>\n",
       "      <td>.</td>\n",
       "      <td>ID=gene4;Name=HMPREF0004_0007;gbkey=Gene;locus...</td>\n",
       "    </tr>\n",
       "    <tr>\n",
       "      <th>10</th>\n",
       "      <td>NZ_GG770409.1</td>\n",
       "      <td>RefSeq</td>\n",
       "      <td>CDS</td>\n",
       "      <td>5013</td>\n",
       "      <td>5294</td>\n",
       "      <td>.</td>\n",
       "      <td>-</td>\n",
       "      <td>0</td>\n",
       "      <td>ID=cds4;Name=ZP_06684431.1;Parent=gene4;Note=I...</td>\n",
       "    </tr>\n",
       "    <tr>\n",
       "      <th>11</th>\n",
       "      <td>NZ_GG770409.1</td>\n",
       "      <td>RefSeq</td>\n",
       "      <td>gene</td>\n",
       "      <td>5569</td>\n",
       "      <td>5838</td>\n",
       "      <td>.</td>\n",
       "      <td>+</td>\n",
       "      <td>.</td>\n",
       "      <td>ID=gene5;Name=coxA;gbkey=Gene;gene=coxA;locus_...</td>\n",
       "    </tr>\n",
       "  </tbody>\n",
       "</table>\n",
       "</div>"
      ],
      "text/plain": [
       "          seqname  source feature  start   end score strand frame  \\\n",
       "9   NZ_GG770409.1  RefSeq    gene   5013  5294     .      -     .   \n",
       "10  NZ_GG770409.1  RefSeq     CDS   5013  5294     .      -     0   \n",
       "11  NZ_GG770409.1  RefSeq    gene   5569  5838     .      +     .   \n",
       "\n",
       "                                            attribute  \n",
       "9   ID=gene4;Name=HMPREF0004_0007;gbkey=Gene;locus...  \n",
       "10  ID=cds4;Name=ZP_06684431.1;Parent=gene4;Note=I...  \n",
       "11  ID=gene5;Name=coxA;gbkey=Gene;gene=coxA;locus_...  "
      ]
     },
     "metadata": {},
     "execution_count": 17
    }
   ],
   "metadata": {}
  },
  {
   "cell_type": "markdown",
   "source": [
    "## Pandas plots your data using Matplotlib's power. You can select the appropriate plot type (scatter, bar, boxplot, etc.) based on your data.\r\n",
    "## I've brought two different plot types, but there are many more. If you want to see them, go to this [website](https://pandas.pydata.org/pandas-docs/stable/user_guide/visualization.html)"
   ],
   "metadata": {}
  },
  {
   "cell_type": "code",
   "execution_count": 18,
   "source": [
    "gff['start'].plot(kind='hist', bins = 50, color=\"b\")"
   ],
   "outputs": [
    {
     "output_type": "execute_result",
     "data": {
      "text/plain": [
       "<AxesSubplot:ylabel='Frequency'>"
      ]
     },
     "metadata": {},
     "execution_count": 18
    },
    {
     "output_type": "display_data",
     "data": {
      "image/png": "[encoded data removed]",
      "text/plain": [
       "<Figure size 432x288 with 1 Axes>"
      ]
     },
     "metadata": {
      "needs_background": "light"
     }
    }
   ],
   "metadata": {}
  },
  {
   "cell_type": "code",
   "execution_count": 19,
   "source": [
    "from IPython import display\r\n",
    "display.Image(\"boxplot.png\")"
   ],
   "outputs": [
    {
     "output_type": "execute_result",
     "data": {
      "image/png": "[encoded data removed]",
      "text/plain": [
       "<IPython.core.display.Image object>"
      ]
     },
     "metadata": {},
     "execution_count": 19
    }
   ],
   "metadata": {}
  },
  {
   "cell_type": "code",
   "execution_count": 21,
   "source": [
    "gff['start'].plot.box()"
   ],
   "outputs": [
    {
     "output_type": "execute_result",
     "data": {
      "text/plain": [
       "<AxesSubplot:>"
      ]
     },
     "metadata": {},
     "execution_count": 21
    },
    {
     "output_type": "display_data",
     "data": {
      "image/png": "[encoded data removed]",
      "text/plain": [
       "<Figure size 432x288 with 1 Axes>"
      ]
     },
     "metadata": {
      "needs_background": "light"
     }
    }
   ],
   "metadata": {}
  },
  {
   "cell_type": "markdown",
   "source": [
    "##  You can use Pandas library to generate basic statistical insights from data. For example, you can compute mean, standard deviation, correlation, minimum and maximum values, and so on.\r\n",
    "## Here, the mean of the starting positions is computed."
   ],
   "metadata": {}
  },
  {
   "cell_type": "code",
   "execution_count": 22,
   "source": [
    "gff['start'].mean()"
   ],
   "outputs": [
    {
     "output_type": "execute_result",
     "data": {
      "text/plain": [
       "3023697.813734794"
      ]
     },
     "metadata": {},
     "execution_count": 22
    }
   ],
   "metadata": {}
  },
  {
   "cell_type": "markdown",
   "source": [
    "## Find maximum and minimum of starting positions"
   ],
   "metadata": {}
  },
  {
   "cell_type": "code",
   "execution_count": null,
   "source": [],
   "outputs": [],
   "metadata": {}
  },
  {
   "cell_type": "code",
   "execution_count": null,
   "source": [],
   "outputs": [],
   "metadata": {}
  },
  {
   "cell_type": "markdown",
   "source": [
    "## What is the median of the starting and ending positions?"
   ],
   "metadata": {}
  },
  {
   "cell_type": "code",
   "execution_count": 38,
   "source": [
    "gff[['start','end']].median()"
   ],
   "outputs": [
    {
     "output_type": "execute_result",
     "data": {
      "text/plain": [
       "start    2989232.0\n",
       "end      2991801.0\n",
       "dtype: float64"
      ]
     },
     "metadata": {},
     "execution_count": 38
    }
   ],
   "metadata": {}
  },
  {
   "cell_type": "markdown",
   "source": [
    "## Some basic statistics are shown here. "
   ],
   "metadata": {}
  },
  {
   "cell_type": "code",
   "execution_count": 23,
   "source": [
    "gff['start'].describe()"
   ],
   "outputs": [
    {
     "output_type": "execute_result",
     "data": {
      "text/plain": [
       "count    1.159100e+04\n",
       "mean     3.023698e+06\n",
       "std      1.772444e+06\n",
       "min      1.000000e+00\n",
       "25%      1.488480e+06\n",
       "50%      2.989232e+06\n",
       "75%      4.574117e+06\n",
       "max      6.113694e+06\n",
       "Name: start, dtype: float64"
      ]
     },
     "metadata": {},
     "execution_count": 23
    }
   ],
   "metadata": {}
  },
  {
   "cell_type": "markdown",
   "source": [
    "## value_counts() function returns object containing counts of unique values.The number of genes, CDSs, tRNAs, and so on can be seen here.\r\n"
   ],
   "metadata": {}
  },
  {
   "cell_type": "code",
   "execution_count": 24,
   "source": [
    "gff['feature'].value_counts()"
   ],
   "outputs": [
    {
     "output_type": "execute_result",
     "data": {
      "text/plain": [
       "gene            5761\n",
       "CDS             5700\n",
       "exon              61\n",
       "tRNA              53\n",
       "binding_site       6\n",
       "ncRNA              4\n",
       "rRNA               3\n",
       "tmRNA              1\n",
       "region             1\n",
       "STS                1\n",
       "Name: feature, dtype: int64"
      ]
     },
     "metadata": {},
     "execution_count": 24
    }
   ],
   "metadata": {}
  },
  {
   "cell_type": "markdown",
   "source": [
    "## DataFrames are iterable, as are their columns or rows. Below we iterate over the elements in the 'attribute' column of the rows where feature=='gene'. The iteration is done using a list-comprehension. We can do something which each selected element as it is created during the for-loop that is happening within the list-comprehension. Here, because the selected elements are strings, we perform a string operation, .split(), to split the string every time a semi-colon appears. The result is a list of lists of the items in the string that were split.\r\n",
    "\r\n",
    "##  We operated on a DataFrame column full of strings and got in return a list of lists of strings! This is why it is important to understand the object types in Python, since it allows you to understand how and why this was possible."
   ],
   "metadata": {}
  },
  {
   "cell_type": "code",
   "execution_count": 25,
   "source": [
    "# split the string objects of those attribute rows\r\n",
    "[i.split(\";\") for i in gff[gff.feature == \"gene\"][\"attribute\"].head()]"
   ],
   "outputs": [
    {
     "output_type": "execute_result",
     "data": {
      "text/plain": [
       "[['ID=gene0',\n",
       "  'Name=HMPREF0004_0003',\n",
       "  'gbkey=Gene',\n",
       "  'locus_tag=HMPREF0004_0003',\n",
       "  'partial=true'],\n",
       " ['ID=gene1',\n",
       "  'Name=HMPREF0004_0004',\n",
       "  'gbkey=Gene',\n",
       "  'locus_tag=HMPREF0004_0004'],\n",
       " ['ID=gene2',\n",
       "  'Name=HMPREF0004_0005',\n",
       "  'gbkey=Gene',\n",
       "  'locus_tag=HMPREF0004_0005',\n",
       "  'partial=true'],\n",
       " ['ID=gene3',\n",
       "  'Name=HMPREF0004_0006',\n",
       "  'gbkey=Gene',\n",
       "  'locus_tag=HMPREF0004_0006'],\n",
       " ['ID=gene4',\n",
       "  'Name=HMPREF0004_0007',\n",
       "  'gbkey=Gene',\n",
       "  'locus_tag=HMPREF0004_0007']]"
      ]
     },
     "metadata": {},
     "execution_count": 25
    }
   ],
   "metadata": {}
  },
  {
   "cell_type": "markdown",
   "source": [
    "## The functions of pandas are not limited to those I've listed. If you're keen to know, you can learn more by visiting this  [website](https://pandas.pydata.org/pandas-docs/stable/reference/general_functions.html#)  or reading Chapter 5 of the book (Python for Data Analysis-DATA WRANGLING WITH PANDAS, NUMPY, AND IPYTHON-, Wes McKinney ) I'll send you.\r\n"
   ],
   "metadata": {}
  },
  {
   "cell_type": "markdown",
   "source": [
    "# gffpandas library"
   ],
   "metadata": {}
  },
  {
   "cell_type": "markdown",
   "source": [
    "## The Python library gffpandas ([gffpandas tutorial]( https://gffpandas.readthedocs.io/en/latest/tutorial.html#)  ) facilitates the work with GFF3 files. Thereby, different conditions can be choosen to process the annotation data, as e.g. to retain only the entries of a specific feature. The big advantages are that several functions and thus options, can be combined and that a GFF3 file or even csv or tsv file can be returned. "
   ],
   "metadata": {}
  }
 ],
 "metadata": {
  "orig_nbformat": 4,
  "language_info": {
   "name": "python",
   "version": "3.8.8",
   "mimetype": "text/x-python",
   "codemirror_mode": {
    "name": "ipython",
    "version": 3
   },
   "pygments_lexer": "ipython3",
   "nbconvert_exporter": "python",
   "file_extension": ".py"
  },
  "kernelspec": {
   "name": "python3",
   "display_name": "Python 3.8.8 64-bit ('base': conda)"
  },
  "interpreter": {
   "hash": "c0f70214c0dd213f07f54ee5d6e0ea644bdbba35113c9bfe8aaa0d1db03ad5dd"
  }
 },
 "nbformat": 4,
 "nbformat_minor": 2
}